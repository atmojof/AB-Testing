{
 "cells": [
  {
   "cell_type": "markdown",
   "metadata": {},
   "source": [
    "# Setup"
   ]
  },
  {
   "cell_type": "code",
   "execution_count": 6,
   "metadata": {},
   "outputs": [],
   "source": [
    "import pandas as pd\n",
    "import numpy as np\n",
    "from scipy import stats\n",
    "import matplotlib.pyplot as plt"
   ]
  },
  {
   "cell_type": "markdown",
   "metadata": {},
   "source": [
    "# Data"
   ]
  },
  {
   "cell_type": "code",
   "execution_count": 7,
   "metadata": {},
   "outputs": [
    {
     "name": "stdout",
     "output_type": "stream",
     "text": [
      "  group  conversion\n",
      "0     A           0\n",
      "1     A           1\n",
      "2     A           0\n",
      "3     A           0\n",
      "4     A           0\n"
     ]
    }
   ],
   "source": [
    "# Data fiktif\n",
    "np.random.seed(42)  # Untuk hasil yang konsisten\n",
    "\n",
    "data = {\n",
    "    'group': ['A'] * 100 + ['B'] * 100,\n",
    "    'conversion': np.random.binomial(1, 0.12, 100).tolist() + np.random.binomial(1, 0.18, 100).tolist()\n",
    "}\n",
    "\n",
    "df = pd.DataFrame(data)\n",
    "print(df.head())"
   ]
  },
  {
   "cell_type": "markdown",
   "metadata": {},
   "source": [
    "# T-Test"
   ]
  },
  {
   "cell_type": "code",
   "execution_count": 8,
   "metadata": {},
   "outputs": [
    {
     "name": "stdout",
     "output_type": "stream",
     "text": [
      "Conversion Rate A: 11.00%\n",
      "Conversion Rate B: 19.00%\n",
      "T-Statistic: -1.5862795352958727\n",
      "P-Value: 0.11427163163612526\n"
     ]
    }
   ],
   "source": [
    "conversion_rate_A = df[df['group'] == 'A']['conversion'].mean()\n",
    "conversion_rate_B = df[df['group'] == 'B']['conversion'].mean()\n",
    "\n",
    "print(f\"Conversion Rate A: {conversion_rate_A:.2%}\")\n",
    "print(f\"Conversion Rate B: {conversion_rate_B:.2%}\")\n",
    "\n",
    "# Pisahkan data berdasarkan grup\n",
    "group_A = df[df['group'] == 'A']['conversion']\n",
    "group_B = df[df['group'] == 'B']['conversion']\n",
    "\n",
    "# Lakukan uji t\n",
    "t_stat, p_value = stats.ttest_ind(group_A, group_B)\n",
    "\n",
    "print(f\"T-Statistic: {t_stat}\")\n",
    "print(f\"P-Value: {p_value}\")"
   ]
  },
  {
   "cell_type": "markdown",
   "metadata": {},
   "source": [
    "# Viz"
   ]
  },
  {
   "cell_type": "code",
   "execution_count": 9,
   "metadata": {},
   "outputs": [
    {
     "data": {
      "image/png": "[encoded data removed]",
      "text/plain": [
       "<Figure size 640x480 with 1 Axes>"
      ]
     },
     "metadata": {},
     "output_type": "display_data"
    }
   ],
   "source": [
    "# Visualisasi hasil konversi\n",
    "conversion_rates = df.groupby('group')['conversion'].mean()\n",
    "\n",
    "plt.bar(conversion_rates.index, conversion_rates.values, color=['blue', 'green'])\n",
    "plt.xlabel('Group')\n",
    "plt.ylabel('Conversion Rate')\n",
    "plt.title('Conversion Rate by Group')\n",
    "plt.ylim(0, 0.25)\n",
    "plt.show()"
   ]
  },
  {
   "cell_type": "code",
   "execution_count": null,
   "metadata": {},
   "outputs": [],
   "source": []
  },
  {
   "cell_type": "markdown",
   "metadata": {},
   "source": [
    "# Result"
   ]
  },
  {
   "cell_type": "code",
   "execution_count": 11,
   "metadata": {},
   "outputs": [
    {
     "name": "stdout",
     "output_type": "stream",
     "text": [
      "Tidak ada perbedaan signifikan antara grup A dan B.\n"
     ]
    }
   ],
   "source": [
    "if p_value < 0.05:\n",
    "    print(\"Ada perbedaan signifikan antara grup A dan B.\")\n",
    "else:\n",
    "    print(\"Tidak ada perbedaan signifikan antara grup A dan B.\")"
   ]
  },
  {
   "cell_type": "code",
   "execution_count": null,
   "metadata": {},
   "outputs": [],
   "source": []
  }
 ],
 "metadata": {
  "kernelspec": {
   "display_name": "Python 3",
   "language": "python",
   "name": "python3"
  },
  "language_info": {
   "codemirror_mode": {
    "name": "ipython",
    "version": 3
   },
   "file_extension": ".py",
   "mimetype": "text/x-python",
   "name": "python",
   "nbconvert_exporter": "python",
   "pygments_lexer": "ipython3",
   "version": "3.11.4"
  }
 },
 "nbformat": 4,
 "nbformat_minor": 2
}
